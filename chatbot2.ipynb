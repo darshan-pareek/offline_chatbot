{
  "cells": [
    {
      "cell_type": "markdown",
      "metadata": {
        "id": "view-in-github",
        "colab_type": "text"
      },
      "source": [
        "<a href=\"https://colab.research.google.com/github/darshan-pareek/offline_chatbot/blob/main/chatbot2.ipynb\" target=\"_parent\"><img src=\"https://colab.research.google.com/assets/colab-badge.svg\" alt=\"Open In Colab\"/></a>"
      ]
    },
    {
      "cell_type": "code",
      "execution_count": null,
      "metadata": {
        "id": "Lbz0uCASO_yR"
      },
      "outputs": [],
      "source": [
        "import torch\n",
        "\n",
        "from transformers import AutoTokenizer, pipeline"
      ]
    },
    {
      "cell_type": "code",
      "execution_count": null,
      "metadata": {
        "id": "hIjtjh3zPacU"
      },
      "outputs": [],
      "source": [
        "model=\"tiiuae/Falcon3-7B-Base\""
      ]
    },
    {
      "cell_type": "code",
      "execution_count": null,
      "metadata": {
        "id": "cRpyAWHtQXhi"
      },
      "outputs": [],
      "source": [
        "tokenizer=AutoTokenizer.from_pretrained(model)"
      ]
    },
    {
      "cell_type": "code",
      "execution_count": null,
      "metadata": {
        "id": "Q-XoEEX9Qh2i"
      },
      "outputs": [],
      "source": [
        "generator=pipeline(\n",
        "    \"text-generation\",\n",
        "    model=model,\n",
        "    tokenizer=tokenizer,\n",
        "    torch_dtype=torch.bfloat16,\n",
        "    device_map=\"auto\",\n",
        "    trust_remote_code=True\n",
        ")"
      ]
    },
    {
      "cell_type": "code",
      "source": [
        "\n",
        "\n"
      ],
      "metadata": {
        "id": "F_vZOvcEgkom"
      },
      "execution_count": null,
      "outputs": []
    },
    {
      "cell_type": "code",
      "execution_count": null,
      "metadata": {
        "id": "hHqoyB8FUlsJ"
      },
      "outputs": [],
      "source": [
        "newline_token=tokenizer.encode(\"\\n\", add_special_tokens=False)[0]\n",
        "my_name=\"darshan\"\n",
        "your_name=\"Advika\"\n",
        "system_prompt = (\n",
        "    \"You are Advika, a helpful AI assistant giving only answer to the question ask by  Darshan.\\n\"\n",
        "    \"Always respond only as Advika, never as Darshan.\\n\"\n",
        "    #\"Always respond a single answer.\\n\"\n",
        "\n",
        "\n",
        ")\n",
        "dialog=[]\n",
        "\n",
        "while True:\n",
        "  user_input=input(\"> \")\n",
        "  if user_input.lower() in {\"exit\", \"quit\"}:\n",
        "        break\n",
        "  dialog.append(f\"{my_name}: {user_input}\")\n",
        "  prompt=system_prompt+ \"\\n\".join(dialog) + f\"\\nAdvika:\"\n",
        "  sequences=generator(\n",
        "      prompt,\n",
        "      max_new_tokens=256,\n",
        "\n",
        "      do_sample=True,\n",
        "      top_k=10,\n",
        "      temperature=0.8,\n",
        "      num_return_sequences=1,\n",
        "      return_full_text=False,\n",
        "      eos_token_id=[newline_token, tokenizer.eos_token_id],\n",
        "      pad_token_id=tokenizer.eos_token_id,\n",
        "      #eos_token_id=tokenizer.eos_token_id\n",
        "\n",
        "\n",
        "\n",
        "  )\n",
        "  response=sequences[0]['generated_text'].strip()\n",
        "  if not response:\n",
        "        response = \"[No response generated]\"\n",
        "  print(response)\n",
        "  dialog.append(f\"Advika: {response}\")\n",
        "\n"
      ]
    },
    {
      "cell_type": "code",
      "execution_count": null,
      "metadata": {
        "id": "TSVJpvs8X9Kc"
      },
      "outputs": [],
      "source": []
    }
  ],
  "metadata": {
    "accelerator": "GPU",
    "colab": {
      "gpuType": "T4",
      "provenance": [],
      "authorship_tag": "ABX9TyOPMvT6qow+OMKrQ78oLvHw",
      "include_colab_link": true
    },
    "kernelspec": {
      "display_name": "Python 3",
      "name": "python3"
    },
    "language_info": {
      "name": "python"
    }
  },
  "nbformat": 4,
  "nbformat_minor": 0
}